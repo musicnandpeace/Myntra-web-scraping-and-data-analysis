{
 "cells": [
  {
   "cell_type": "code",
   "execution_count": 3,
   "metadata": {},
   "outputs": [],
   "source": [
    "import os\n",
    "import pandas as pd\n",
    "import re\n",
    "\n",
    "# Create a list to store each dataframe\n",
    "df_list = []\n",
    "pattern = \".*(ethnic|kurta|sherwani|saree).*\"\n",
    "\n",
    "# Loop through each csv file in the folder\n",
    "for filename in os.listdir():\n",
    "    if filename.endswith(\".csv\"):\n",
    "        # Read the csv file into a dataframe\n",
    "        df = pd.read_csv(filename)\n",
    "        \n",
    "        # Add a new column 'gender' based on the condition\n",
    "        df['gender'] = df.apply(lambda x: 'Women' if re.match(\".*women.*\", filename) else 'Men', axis=1)\n",
    "        \n",
    "        # Add a new column 'clothing_type' based on the condition\n",
    "        df['clothing_type'] = df.apply(lambda x: 'Ethnic' if re.match(pattern, filename) else 'Western', axis=1)\n",
    "        \n",
    "        # Add a new column 'wear_type' based on the condition\n",
    "        df['wear_type'] = df.apply(lambda x: os.path.splitext(filename)[0], axis=1)\n",
    "        \n",
    "        # Append the dataframe to the list\n",
    "        df_list.append(df)\n",
    "\n",
    "# Concatenate all dataframes into one big dataframe\n",
    "big_df = pd.concat(df_list)\n",
    "\n",
    "# Save the big dataframe to a new csv file\n",
    "big_df.to_csv('compiled_raw_data.csv', index=False)"
   ]
  },
  {
   "cell_type": "code",
   "execution_count": null,
   "metadata": {},
   "outputs": [],
   "source": []
  }
 ],
 "metadata": {
  "kernelspec": {
   "display_name": "Python 3",
   "language": "python",
   "name": "python3"
  },
  "language_info": {
   "codemirror_mode": {
    "name": "ipython",
    "version": 3
   },
   "file_extension": ".py",
   "mimetype": "text/x-python",
   "name": "python",
   "nbconvert_exporter": "python",
   "pygments_lexer": "ipython3",
   "version": "3.7.6"
  }
 },
 "nbformat": 4,
 "nbformat_minor": 4
}
